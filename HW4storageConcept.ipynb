{
 "cells": [
  {
   "cell_type": "code",
   "execution_count": 1,
   "id": "465b8b2d-c81a-4f28-8aba-428c5949a703",
   "metadata": {},
   "outputs": [],
   "source": [
    "# database\n",
    "import sqlite3"
   ]
  },
  {
   "cell_type": "code",
   "execution_count": 2,
   "id": "8a050ba8-6b78-40c0-a002-568254b191d2",
   "metadata": {},
   "outputs": [],
   "source": [
    "# store data\n",
    "# create a todo list table\n",
    "def create_todo_table(conn):\n",
    "    cursor = conn.cursor()\n",
    "    cursor.execute('''CREATE TABLE IF NOT EXISTS todos (\n",
    "                    id INTEGER PRIMARY KEY,\n",
    "                    task TEXT NOT NULL,\n",
    "                    completed INTEGER DEFAULT 0\n",
    "                    )''')\n",
    "    conn.commit()"
   ]
  },
  {
   "cell_type": "code",
   "execution_count": 3,
   "id": "66ac4e25-6a3d-4552-ab36-cef321a2e2ae",
   "metadata": {},
   "outputs": [],
   "source": [
    "# interact/manipulate\n",
    "\n",
    "# add a new task to the todo list\n",
    "def add_task(conn, task):\n",
    "    cursor = conn.cursor()\n",
    "    cursor.execute('INSERT INTO todos (task) VALUES (?)',(task,))\n",
    "    conn.commit()\n",
    "\n",
    "# update the completion status of a task, 1 complete, 0 not complete\n",
    "def update_task_status(conn, task_id, competed):\n",
    "    cursor = conn.cursor()\n",
    "    cursor.execute('UPDATE todos  SET completed = ? WHERE id = ?', (completed, task_id))\n",
    "    conn.commit()\n",
    "\n",
    "# delete a task from the todo list\n",
    "def delete_task(conn, task_id):\n",
    "    cursor = conn.cursor()\n",
    "    cursor.execute('DELETE FROM todos WHERE id = ?', (task_id,))\n",
    "    conn.commit()"
   ]
  },
  {
   "cell_type": "code",
   "execution_count": 4,
   "id": "483c1842-1c00-4741-87b0-17d3cb334f2f",
   "metadata": {},
   "outputs": [],
   "source": [
    "# retrieve data\n",
    "\n",
    "# retrieve/view all of the task in the todo list\n",
    "def get_tasks(conn):\n",
    "    cursor = conn.cursor()\n",
    "    cursor.execute('SELECT * FROM todos')\n",
    "    tasks = cursor.fetchall()\n",
    "    return task"
   ]
  },
  {
   "cell_type": "code",
   "execution_count": null,
   "id": "ecda151f-c509-4564-8e92-525970bd5ac2",
   "metadata": {},
   "outputs": [
    {
     "name": "stdout",
     "output_type": "stream",
     "text": [
      "\n",
      "TODO LIST\n",
      "1. Add Task\n",
      "2. View Tasks\n",
      "3. Update Task Status\n",
      "4. Delete Task\n",
      "5. Exit\n"
     ]
    },
    {
     "name": "stdin",
     "output_type": "stream",
     "text": [
      "Enter your choice:  1\n",
      "Enter task:  Details on why Kenyan marathoners excells so well internatinally\n"
     ]
    },
    {
     "name": "stdout",
     "output_type": "stream",
     "text": [
      "Task added successfully!\n",
      "\n",
      "TODO LIST\n",
      "1. Add Task\n",
      "2. View Tasks\n",
      "3. Update Task Status\n",
      "4. Delete Task\n",
      "5. Exit\n"
     ]
    },
    {
     "name": "stdin",
     "output_type": "stream",
     "text": [
      "Enter your choice:  1\n",
      "Enter task:  The do train in high altitude areas thus increasing red blood cells count and increasing oxygen capacity.\n"
     ]
    },
    {
     "name": "stdout",
     "output_type": "stream",
     "text": [
      "Task added successfully!\n",
      "\n",
      "TODO LIST\n",
      "1. Add Task\n",
      "2. View Tasks\n",
      "3. Update Task Status\n",
      "4. Delete Task\n",
      "5. Exit\n"
     ]
    },
    {
     "name": "stdin",
     "output_type": "stream",
     "text": [
      "Enter your choice:  1\n",
      "Enter task:  Cultural and socioeconomic factors this is evedent in that young upcoming athletes get motivated by elits from community who have excelled\n"
     ]
    },
    {
     "name": "stdout",
     "output_type": "stream",
     "text": [
      "Task added successfully!\n",
      "\n",
      "TODO LIST\n",
      "1. Add Task\n",
      "2. View Tasks\n",
      "3. Update Task Status\n",
      "4. Delete Task\n",
      "5. Exit\n"
     ]
    },
    {
     "name": "stdin",
     "output_type": "stream",
     "text": [
      "Enter your choice:  1\n",
      "Enter task:  Motivation and inspirations \n"
     ]
    },
    {
     "name": "stdout",
     "output_type": "stream",
     "text": [
      "Task added successfully!\n",
      "\n",
      "TODO LIST\n",
      "1. Add Task\n",
      "2. View Tasks\n",
      "3. Update Task Status\n",
      "4. Delete Task\n",
      "5. Exit\n"
     ]
    }
   ],
   "source": [
    "# Main function\n",
    "def main():\n",
    "    # connect to the SQLite database\n",
    "    conn = sqlite3.connect('todo.do') \n",
    "    \n",
    "    # create the todo list table\n",
    "    create_todo_table(conn) \n",
    "\n",
    "    # loop untill you exit \n",
    "    while True:\n",
    "        # menu interface for tasks \n",
    "        print(\"\\nTODO LIST\") \n",
    "        print(\"1. Add Task\")\n",
    "        print(\"2. View Tasks\")\n",
    "        print(\"3. Update Task Status\")\n",
    "        print(\"4. Delete Task\")\n",
    "        print(\"5. Exit\") \n",
    "        \n",
    "        choice = input(\"Enter your choice: \") \n",
    "        if choice == '1': \n",
    "            task = input(\"Enter task: \") \n",
    "            add_task(conn, task) \n",
    "            print(\"Task added successfully!\")\n",
    "            \n",
    "        elif choice =='2':\n",
    "             tasks = get_tasks(conn)\n",
    "             if not tasks:\n",
    "                print(\"No task found.\")\n",
    "             else:\n",
    "                for task in tasks:\n",
    "                    print(f\"{task[0]}. {task[1]} - {'Completed' if task[2] else 'Incomplete'}\")\n",
    "        elif choice == '3':\n",
    "            task_id = int(input(\"Enter task ID: \"))\n",
    "            completed = int(input(\"Enter completion status (1 for completed, 0 for incomplete): \"))\n",
    "            update_task_status(conn, task_id,completed)\n",
    "            print(\"Task status updated successfully!\")\n",
    "\n",
    "        elif choice == '4':\n",
    "           task_id = int(input(\"Enter task ID: \"))\n",
    "           delete_task(conn, task_id)\n",
    "           print(\"Task deleted successfully!\")\n",
    "\n",
    "        elif choice == '5':\n",
    "             print(\"Exiting...\")\n",
    "             break\n",
    "\n",
    "        else:\n",
    "             print(\"Invalid choice. Please try again.\")\n",
    "            \n",
    "# close the database connection\n",
    "    conn.close()\n",
    "\n",
    "if __name__==\"__main__\":\n",
    "    main()\n",
    "    \n",
    "\n"
   ]
  },
  {
   "cell_type": "code",
   "execution_count": null,
   "id": "b68aa25b-2497-4bca-94b2-419ac2f5cca3",
   "metadata": {},
   "outputs": [],
   "source": []
  }
 ],
 "metadata": {
  "kernelspec": {
   "display_name": "Python 3 (ipykernel)",
   "language": "python",
   "name": "python3"
  },
  "language_info": {
   "codemirror_mode": {
    "name": "ipython",
    "version": 3
   },
   "file_extension": ".py",
   "mimetype": "text/x-python",
   "name": "python",
   "nbconvert_exporter": "python",
   "pygments_lexer": "ipython3",
   "version": "3.12.0"
  }
 },
 "nbformat": 4,
 "nbformat_minor": 5
}
